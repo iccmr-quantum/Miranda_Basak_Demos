{
 "cells": [
  {
   "attachments": {
    "118358798-6e875d00-b578-11eb-8c06-47f40ca9bb03.png": {
     "image/png": "[encoded data removed]"
    }
   },
   "cell_type": "markdown",
   "metadata": {},
   "source": [
    "![118358798-6e875d00-b578-11eb-8c06-47f40ca9bb03.png](attachment:118358798-6e875d00-b578-11eb-8c06-47f40ca9bb03.png)"
   ]
  },
  {
   "cell_type": "markdown",
   "metadata": {},
   "source": [
    "Supplementary material for book chapter: \n",
    "\n",
    "**_Quantum Computer Music: Foundations and Initial Experiments_**, by Eduardo R. Miranda and Suchitra T. Basak"
   ]
  },
  {
   "cell_type": "markdown",
   "metadata": {},
   "source": [
    "(a) This demonstration is implemented in IBM Q's Qiskit. (https://qiskit.org/)\n",
    "\n",
    "(b) To listen to the music you need run this Notebook alongside \"MusicPatch.maxpat\". Open the patch provided and make sure it plays musical notes on your computer. This patch sends out MIDI notes to your machine's default MIDI device, via UDP.\n",
    "\n",
    "(c) Max is available from https://cycling74.com/"
   ]
  },
  {
   "cell_type": "markdown",
   "metadata": {},
   "source": [
    "### Example: 1-D quantum walk"
   ]
  },
  {
   "cell_type": "code",
   "execution_count": 1,
   "metadata": {},
   "outputs": [],
   "source": [
    "# import libraries\n",
    "\n",
    "from qiskit import QuantumCircuit, Aer, execute\n",
    "from qiskit.visualization import plot_histogram"
   ]
  },
  {
   "cell_type": "code",
   "execution_count": 2,
   "metadata": {},
   "outputs": [
    {
     "data": {
      "image/png": "[encoded data removed]",
      "text/plain": [
       "<Figure size 193.726x144.48 with 1 Axes>"
      ]
     },
     "metadata": {},
     "output_type": "display_data"
    }
   ],
   "source": [
    "# define the circuit\n",
    "\n",
    "def build_binary_die(draw_ckt):\n",
    "    num_qubits = 1\n",
    "    num_cbits = 1\n",
    "    one_d_walk = QuantumCircuit(num_qubits, num_cbits)\n",
    "    one_d_walk.h(0)\n",
    "    one_d_walk.measure(0,0)\n",
    "\n",
    "    if draw_ckt:\n",
    "        display(one_d_walk.draw('mpl'))\n",
    "    return(one_d_walk)\n",
    "\n",
    "\n",
    "one_d_walk = build_binary_die(draw_ckt = True)"
   ]
  },
  {
   "cell_type": "code",
   "execution_count": 3,
   "metadata": {},
   "outputs": [
    {
     "name": "stdout",
     "output_type": "stream",
     "text": [
      "{'0': 53, '1': 47}\n"
     ]
    }
   ],
   "source": [
    "# function to run the circuit\n",
    "\n",
    "def run_circuit(qc, view_histogram):\n",
    "    backend = Aer.get_backend('qasm_simulator')\n",
    "    results = execute(qc, backend=backend, shots=100).result()\n",
    "    answer = results.get_counts()\n",
    "    \n",
    "    if view_histogram:\n",
    "        display(plot_histogram(answer))\n",
    "        \n",
    "    return(answer)\n",
    "\n",
    "\n",
    "answer = run_circuit(one_d_walk, False)\n",
    "print(answer)"
   ]
  },
  {
   "cell_type": "code",
   "execution_count": 4,
   "metadata": {},
   "outputs": [
    {
     "data": {
      "text/plain": [
       "0"
      ]
     },
     "execution_count": 4,
     "metadata": {},
     "output_type": "execute_result"
    }
   ],
   "source": [
    "# fucntion to calculate the next note\n",
    "\n",
    "def calc_next_note(answer, initial_note = 1):\n",
    "    dict_keys = list(answer.keys())\n",
    "\n",
    "    dict_vals = []\n",
    "    for i in dict_keys:\n",
    "        dict_vals.append(answer[i])\n",
    "\n",
    "    next_state = dict_keys[dict_vals.index(max(dict_vals))]\n",
    "    next_state = int(next_state,2)\n",
    "    \n",
    "    if next_state == 0:\n",
    "        next_note = initial_note - 1\n",
    "    else:\n",
    "        next_note = initial_note + 1\n",
    "\n",
    "    return(next_note)\n",
    "\n",
    "calc_next_note(answer, initial_note = 1)"
   ]
  },
  {
   "cell_type": "markdown",
   "metadata": {},
   "source": [
    "#### Generating a stream of MIDI notes"
   ]
  },
  {
   "cell_type": "code",
   "execution_count": 5,
   "metadata": {},
   "outputs": [
    {
     "name": "stdout",
     "output_type": "stream",
     "text": [
      "[59, 58, 57, 58, 57, 58, 57, 58, 59, 60, 59, 58, 59, 60, 61, 60]\n"
     ]
    }
   ],
   "source": [
    "initial_note = 60\n",
    "how_many_notes = 16\n",
    "\n",
    "pitches = []\n",
    "initial_pitch = 0\n",
    "for i in range(how_many_notes):\n",
    "    one_d_walk = build_binary_die(draw_ckt = False)\n",
    "    answer = run_circuit(one_d_walk, False)\n",
    "    initial_note = calc_next_note(answer, initial_note = initial_note)\n",
    "    \n",
    "    pitches.append(initial_pitch + initial_note)\n",
    "    \n",
    "print(pitches)"
   ]
  },
  {
   "cell_type": "markdown",
   "metadata": {},
   "source": [
    "#### Send notes to Max MusicPatch"
   ]
  },
  {
   "cell_type": "code",
   "execution_count": 6,
   "metadata": {},
   "outputs": [],
   "source": [
    "import time\n",
    "\n",
    "# OSC to send data to max\n",
    "from pythonosc.udp_client import SimpleUDPClient"
   ]
  },
  {
   "cell_type": "code",
   "execution_count": 7,
   "metadata": {},
   "outputs": [
    {
     "name": "stdout",
     "output_type": "stream",
     "text": [
      "59\n",
      "58\n",
      "57\n",
      "58\n",
      "57\n",
      "58\n",
      "57\n",
      "58\n",
      "59\n",
      "60\n",
      "59\n",
      "58\n",
      "59\n",
      "60\n",
      "61\n",
      "60\n",
      "data sent!\n"
     ]
    }
   ],
   "source": [
    "client = SimpleUDPClient(\"127.0.0.1\", 5005)\n",
    "\n",
    "for i in pitches:\n",
    "    send_pitch = i\n",
    "    client.send_message(\"pitch\", send_pitch)\n",
    "    print(send_pitch)\n",
    "    time.sleep(0.5)\n",
    "        \n",
    "print('data sent!')"
   ]
  }
 ],
 "metadata": {
  "kernelspec": {
   "display_name": "Python 3",
   "language": "python",
   "name": "python3"
  },
  "language_info": {
   "codemirror_mode": {
    "name": "ipython",
    "version": 3
   },
   "file_extension": ".py",
   "mimetype": "text/x-python",
   "name": "python",
   "nbconvert_exporter": "python",
   "pygments_lexer": "ipython3",
   "version": "3.7.9"
  }
 },
 "nbformat": 4,
 "nbformat_minor": 4
}
