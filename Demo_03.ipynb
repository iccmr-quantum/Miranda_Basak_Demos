{
 "cells": [
  {
   "attachments": {
    "118358798-6e875d00-b578-11eb-8c06-47f40ca9bb03.png": {
     "image/png": "[encoded data removed]"
    }
   },
   "cell_type": "markdown",
   "metadata": {},
   "source": [
    "![118358798-6e875d00-b578-11eb-8c06-47f40ca9bb03.png](attachment:118358798-6e875d00-b578-11eb-8c06-47f40ca9bb03.png)"
   ]
  },
  {
   "cell_type": "markdown",
   "metadata": {},
   "source": [
    "Supplementary material for book chapter: \n",
    "\n",
    "**_Quantum Computer Music: Foundations and Initial Experiments_**, by Eduardo R. Miranda and Suchitra T. Basak"
   ]
  },
  {
   "cell_type": "markdown",
   "metadata": {},
   "source": [
    "(a) This demonstration is implemented in IBM Q's Qiskit. (https://qiskit.org/)\n",
    "\n",
    "(b) To listen to the music you need run this Notebook alongside \"MusicPatch.maxpat\". Open the patch provided and make sure it plays musical notes on your computer. This patch sends out MIDI notes to your machine's default MIDI device, via UDP.\n",
    "\n",
    "(c) Max is available from https://cycling74.com/"
   ]
  },
  {
   "cell_type": "code",
   "execution_count": 1,
   "metadata": {},
   "outputs": [],
   "source": [
    "# import libraries\n",
    "import numpy as np\n",
    "\n",
    "from qiskit import QuantumCircuit, QuantumRegister, Aer, assemble, execute\n",
    "from qiskit.quantum_info.operators import Operator\n",
    "from qiskit.visualization import plot_histogram\n",
    "\n",
    "import matplotlib.pyplot as plt\n",
    "%matplotlib inline"
   ]
  },
  {
   "cell_type": "code",
   "execution_count": 2,
   "metadata": {},
   "outputs": [],
   "source": [
    "# Defining the transition table\n",
    "\n",
    "E = [0.,0.5,0.,0.,0.,0.5,0.,0.,0.,0.,0.,0.]\n",
    "Ds = [0.25,0.,0.,0.25,0.25,0.,0.25,0.,0.,0.,0.,0.]\n",
    "Cs = [0.,0.,0.33,0.,0.33,0.33,0.,0.,0.,0.,0.,0.]\n",
    "G = [0.,0.33,0.,0.33,0.,0.,0.,0.33,0.,0.,0.,0.]\n",
    "D = [0.,0.25,0.25,0.,0.,0.,0.25,0.,0.25,0.,0.,0.]\n",
    "F = [0.25,0.,0.25,0.,0.,0.,0.,0.25,0.,0.25,0.,0.]\n",
    "C = [0.,0.25,0.,0.,0.25,0.,0.,0.,0.25,0.,0.25,0.]\n",
    "Fs = [0.,0.,0.,0.25,0.,0.25,0.,0.,0.,0.25,0.25,0.]\n",
    "A = [0.,0.,0.,0.,0.25,0.,0.25,0.,0.,0.25,0.,0.25]\n",
    "Gs = [0.,0.,0.,0.,0.,0.25,0.,0.25,0.25,0.,0.25,0.]\n",
    "B = [0.,0.,0.,0.,0.,0.,0.25,0.25,0.,0.25,0.,0.25]\n",
    "As = [0.,0.,0.,0.,0.,0.,0.,0.,0.5,0.,0.5,0.]\n",
    "\n",
    "rules = {'E':E, 'Ds':Ds, 'Cs':Cs, 'G':G, 'D':D, 'F':F, 'C':C, 'Fs':Fs, 'A':A, 'Gs':Gs, 'B':B, 'As':As}\n",
    "next_notes = {'E':64,'F':65,'G':67,'Cs':61,'Fs':66,'Ds':63,'Gs':68,'D':62,'B':71,'C':60,'A':69,'As':70}"
   ]
  },
  {
   "cell_type": "code",
   "execution_count": 3,
   "metadata": {},
   "outputs": [
    {
     "name": "stdout",
     "output_type": "stream",
     "text": [
      "[[0.   0.5  0.   0.   0.   0.5  0.   0.   0.   0.   0.   0.  ]\n",
      " [0.25 0.   0.   0.25 0.25 0.   0.25 0.   0.   0.   0.   0.  ]\n",
      " [0.   0.   0.33 0.   0.33 0.33 0.   0.   0.   0.   0.   0.  ]\n",
      " [0.   0.33 0.   0.33 0.   0.   0.   0.33 0.   0.   0.   0.  ]\n",
      " [0.   0.25 0.25 0.   0.   0.   0.25 0.   0.25 0.   0.   0.  ]\n",
      " [0.25 0.   0.25 0.   0.   0.   0.   0.25 0.   0.25 0.   0.  ]\n",
      " [0.   0.25 0.   0.   0.25 0.   0.   0.   0.25 0.   0.25 0.  ]\n",
      " [0.   0.   0.   0.25 0.   0.25 0.   0.   0.   0.25 0.25 0.  ]\n",
      " [0.   0.   0.   0.   0.25 0.   0.25 0.   0.   0.25 0.   0.25]\n",
      " [0.   0.   0.   0.   0.   0.25 0.   0.25 0.25 0.   0.25 0.  ]\n",
      " [0.   0.   0.   0.   0.   0.   0.25 0.25 0.   0.25 0.   0.25]\n",
      " [0.   0.   0.   0.   0.   0.   0.   0.   0.5  0.   0.5  0.  ]]\n"
     ]
    }
   ],
   "source": [
    "# displaying Markov Chain as an array\n",
    "\n",
    "mkv_chain = np.array([E,Ds,Cs,G,D,F,C,Fs,A,Gs,B,As])\n",
    "\n",
    "print(mkv_chain)"
   ]
  },
  {
   "cell_type": "markdown",
   "metadata": {},
   "source": [
    "#### Step 1: Extract target states"
   ]
  },
  {
   "cell_type": "code",
   "execution_count": 4,
   "metadata": {},
   "outputs": [
    {
     "name": "stdout",
     "output_type": "stream",
     "text": [
      "[0.0, 0.5, 0.0, 0.0, 0.0, 0.5, 0.0, 0.0, 0.0, 0.0, 0.0, 0.0]\n"
     ]
    },
    {
     "data": {
      "text/plain": [
       "[0.0, 1.0, 0.0, 0.0, 0.0, 1.0, 0.0, 0.0, 0.0, 0.0, 0.0, 0.0]"
      ]
     },
     "execution_count": 4,
     "metadata": {},
     "output_type": "execute_result"
    }
   ],
   "source": [
    "E = [0.,0.5,0.,0.,0.,0.5,0.,0.,0.,0.,0.,0.]\n",
    "\n",
    "def get_target_states(mkv_chain_one_row):\n",
    "    target_states =[]\n",
    "    for i in range(len(mkv_chain_one_row)):\n",
    "        if mkv_chain_one_row[i] != 0.:\n",
    "            target_states.append(1.)\n",
    "        else:\n",
    "            target_states.append(0.)\n",
    "    return(target_states)\n",
    "\n",
    "print(E)\n",
    "get_target_states(E)"
   ]
  },
  {
   "cell_type": "markdown",
   "metadata": {},
   "source": [
    "#### Step 2: Make oracle"
   ]
  },
  {
   "cell_type": "code",
   "execution_count": 5,
   "metadata": {},
   "outputs": [
    {
     "name": "stdout",
     "output_type": "stream",
     "text": [
      "[[ 1.  0.  0.  0.  0.  0.  0.  0.  0.  0.  0.  0.  0.  0.  0.  0.]\n",
      " [ 0. -1.  0.  0.  0.  0.  0.  0.  0.  0.  0.  0.  0.  0.  0.  0.]\n",
      " [ 0.  0.  1.  0.  0.  0.  0.  0.  0.  0.  0.  0.  0.  0.  0.  0.]\n",
      " [ 0.  0.  0.  1.  0.  0.  0.  0.  0.  0.  0.  0.  0.  0.  0.  0.]\n",
      " [ 0.  0.  0.  0.  1.  0.  0.  0.  0.  0.  0.  0.  0.  0.  0.  0.]\n",
      " [ 0.  0.  0.  0.  0. -1.  0.  0.  0.  0.  0.  0.  0.  0.  0.  0.]\n",
      " [ 0.  0.  0.  0.  0.  0.  1.  0.  0.  0.  0.  0.  0.  0.  0.  0.]\n",
      " [ 0.  0.  0.  0.  0.  0.  0.  1.  0.  0.  0.  0.  0.  0.  0.  0.]\n",
      " [ 0.  0.  0.  0.  0.  0.  0.  0.  1.  0.  0.  0.  0.  0.  0.  0.]\n",
      " [ 0.  0.  0.  0.  0.  0.  0.  0.  0.  1.  0.  0.  0.  0.  0.  0.]\n",
      " [ 0.  0.  0.  0.  0.  0.  0.  0.  0.  0.  1.  0.  0.  0.  0.  0.]\n",
      " [ 0.  0.  0.  0.  0.  0.  0.  0.  0.  0.  0.  1.  0.  0.  0.  0.]\n",
      " [ 0.  0.  0.  0.  0.  0.  0.  0.  0.  0.  0.  0.  1.  0.  0.  0.]\n",
      " [ 0.  0.  0.  0.  0.  0.  0.  0.  0.  0.  0.  0.  0.  1.  0.  0.]\n",
      " [ 0.  0.  0.  0.  0.  0.  0.  0.  0.  0.  0.  0.  0.  0.  1.  0.]\n",
      " [ 0.  0.  0.  0.  0.  0.  0.  0.  0.  0.  0.  0.  0.  0.  0.  1.]]\n"
     ]
    }
   ],
   "source": [
    "def make_oracle(target_states,num_qubits):\n",
    "    oracle_mat = np.eye(2**num_qubits)\n",
    "    \n",
    "    for i in range(len(target_states)):\n",
    "        if target_states[i] == 1.:\n",
    "            oracle_mat[i,i] = -1.\n",
    "    return(oracle_mat)\n",
    "\n",
    "p = make_oracle(get_target_states(E), 4)\n",
    "print(p)"
   ]
  },
  {
   "cell_type": "markdown",
   "metadata": {},
   "source": [
    "#### Step 3: Build circuit"
   ]
  },
  {
   "cell_type": "code",
   "execution_count": 6,
   "metadata": {},
   "outputs": [],
   "source": [
    "def build_circuit(num_qubits, target_states):\n",
    "    \n",
    "    def initialize(qc,num_qubits):\n",
    "        for i in range(num_qubits):\n",
    "            qc.h(i)\n",
    "        return(qc)\n",
    "    \n",
    "    def oracle(qc, num_qubits, target_states):\n",
    "        inputs_q = QuantumRegister(num_qubits)\n",
    "        opQc = QuantumCircuit(inputs_q)\n",
    "\n",
    "        # create the matrix/ truthtable\n",
    "        mat = make_oracle(target_states,num_qubits)\n",
    "        \n",
    "        #print(mat)\n",
    "        # pack the oracle in a gate\n",
    "        op = Operator(mat)\n",
    "        opQc.unitary(op, list(range(num_qubits)), label='oracle for')\n",
    "\n",
    "        orc = opQc.to_gate()\n",
    "        orc.name = \"$Oracle$\"\n",
    "\n",
    "        qc.append(orc, list(range(num_qubits)))\n",
    "        return(qc)\n",
    "    \n",
    "    # diffuser circuit\n",
    "    def diffuser(qc, nqubits):\n",
    "        for qubit in range(nqubits):\n",
    "            qc.h(qubit)\n",
    "\n",
    "        for qubit in range(nqubits):\n",
    "            qc.x(qubit)\n",
    "        \n",
    "        qc.h(nqubits-1)\n",
    "        qc.mct(list(range(nqubits-1)), nqubits-1)  # mct = multi-controlled-toffoli\n",
    "        qc.h(nqubits-1)\n",
    "        \n",
    "        for qubit in range(nqubits):\n",
    "            qc.x(qubit)\n",
    "        \n",
    "        for qubit in range(nqubits):\n",
    "            qc.h(qubit)\n",
    "\n",
    "        return(qc)\n",
    "    \n",
    "    qc = QuantumCircuit(num_qubits)\n",
    "    qc = initialize(qc, num_qubits)\n",
    "    qc.barrier()\n",
    "    qc = oracle(qc, num_qubits, target_states)\n",
    "    qc.barrier()\n",
    "    qc = diffuser(qc,num_qubits)\n",
    "    \n",
    "    qc.measure_all()\n",
    "    \n",
    "    return(qc)"
   ]
  },
  {
   "cell_type": "code",
   "execution_count": 7,
   "metadata": {},
   "outputs": [
    {
     "data": {
      "image/png": "[encoded data removed]",
      "text/plain": [
       "<Figure size 1140.28x325.08 with 1 Axes>"
      ]
     },
     "execution_count": 7,
     "metadata": {},
     "output_type": "execute_result"
    }
   ],
   "source": [
    "qc = build_circuit(4,get_target_states(E))\n",
    "qc.draw('mpl')"
   ]
  },
  {
   "cell_type": "code",
   "execution_count": 8,
   "metadata": {},
   "outputs": [],
   "source": [
    "# execute circuit\n",
    "def get_histogram(qc):\n",
    "    # this function prints the histogram of the circuit\n",
    "    backend = Aer.get_backend('qasm_simulator')\n",
    "    results = execute(qc,backend).result().get_counts()\n",
    "    return(results)"
   ]
  },
  {
   "cell_type": "code",
   "execution_count": 9,
   "metadata": {},
   "outputs": [
    {
     "data": {
      "image/png": "[encoded data removed]",
      "text/plain": [
       "<Figure size 504x360 with 1 Axes>"
      ]
     },
     "execution_count": 9,
     "metadata": {},
     "output_type": "execute_result"
    }
   ],
   "source": [
    "answer = get_histogram(qc)\n",
    "plot_histogram(answer)"
   ]
  },
  {
   "cell_type": "code",
   "execution_count": 10,
   "metadata": {},
   "outputs": [],
   "source": [
    "# Calculate next value from the histogram\n",
    "\n",
    "def calc_next_note(answer):\n",
    "    dict_keys = list(answer.keys())\n",
    "    dict_vals = []\n",
    "    for i in dict_keys:\n",
    "        dict_vals.append(answer[i])\n",
    "\n",
    "    next_state = dict_keys[dict_vals.index(max(dict_vals))]\n",
    "    next_state_dec = int(next_state,2)\n",
    "    next_state = list(next_notes.keys())[next_state_dec]\n",
    "    next_pitch = next_notes[next_state]\n",
    "    return(next_state_dec, next_state, next_pitch)"
   ]
  },
  {
   "cell_type": "code",
   "execution_count": 11,
   "metadata": {},
   "outputs": [
    {
     "data": {
      "text/plain": [
       "(5, 'Ds', 63)"
      ]
     },
     "execution_count": 11,
     "metadata": {},
     "output_type": "execute_result"
    }
   ],
   "source": [
    "calc_next_note(answer)"
   ]
  },
  {
   "cell_type": "markdown",
   "metadata": {},
   "source": [
    "## Sending data to Max"
   ]
  },
  {
   "cell_type": "code",
   "execution_count": 12,
   "metadata": {},
   "outputs": [],
   "source": [
    "import time\n",
    "\n",
    "# send data to max\n",
    "from pythonosc.udp_client import SimpleUDPClient"
   ]
  },
  {
   "cell_type": "code",
   "execution_count": 13,
   "metadata": {},
   "outputs": [],
   "source": [
    "client = SimpleUDPClient(\"127.0.0.1\", 5005)"
   ]
  },
  {
   "cell_type": "code",
   "execution_count": 14,
   "metadata": {},
   "outputs": [
    {
     "name": "stdout",
     "output_type": "stream",
     "text": [
      "67 G\n",
      "65 F\n",
      "64 E\n",
      "63 Ds\n",
      "61 Cs\n",
      "66 Fs\n",
      "63 Ds\n",
      "66 Fs\n",
      "69 A\n",
      "60 C\n",
      "69 A\n",
      "60 C\n",
      "69 A\n",
      "68 Gs\n",
      "63 Ds\n",
      "68 Gs\n",
      "62 D\n",
      "65 F\n",
      "62 D\n",
      "71 B\n",
      "60 C\n",
      "66 Fs\n",
      "63 Ds\n",
      "64 E\n",
      "63 Ds\n",
      "66 Fs\n",
      "60 C\n",
      "71 B\n",
      "70 As\n",
      "71 B\n",
      "70 As\n",
      "69 A\n",
      "60 C\n",
      "66 Fs\n",
      "60 C\n",
      "71 B\n",
      "62 D\n",
      "67 G\n",
      "61 Cs\n",
      "67 G\n",
      "61 Cs\n",
      "63 Ds\n",
      "68 Gs\n",
      "63 Ds\n",
      "64 E\n",
      "65 F\n",
      "67 G\n",
      "62 D\n"
     ]
    }
   ],
   "source": [
    "num_loops = 48\n",
    "init_note = 'Cs'\n",
    "num_qubits = 4\n",
    "\n",
    "client = SimpleUDPClient(\"127.0.0.1\", 5005)\n",
    "\n",
    "pitches=[]\n",
    "\n",
    "for i in range(num_loops):\n",
    "    target_states = get_target_states(rules[init_note])\n",
    "    qc = build_circuit(num_qubits, target_states)\n",
    "    answer = get_histogram(qc)\n",
    "    next_state_dec, next_state, next_pitch = calc_next_note(answer)\n",
    "    print(next_pitch, next_state)\n",
    "    \n",
    "    send_pitch = next_pitch\n",
    "    client.send_message(\"pitch\", send_pitch)\n",
    "    time.sleep(0.15)\n",
    "    \n",
    "    pitches.append(next_pitch)\n",
    "    init_note = next_state"
   ]
  },
  {
   "cell_type": "code",
   "execution_count": null,
   "metadata": {},
   "outputs": [],
   "source": []
  },
  {
   "cell_type": "code",
   "execution_count": null,
   "metadata": {},
   "outputs": [],
   "source": []
  }
 ],
 "metadata": {
  "kernelspec": {
   "display_name": "Python 3",
   "language": "python",
   "name": "python3"
  },
  "language_info": {
   "codemirror_mode": {
    "name": "ipython",
    "version": 3
   },
   "file_extension": ".py",
   "mimetype": "text/x-python",
   "name": "python",
   "nbconvert_exporter": "python",
   "pygments_lexer": "ipython3",
   "version": "3.7.9"
  }
 },
 "nbformat": 4,
 "nbformat_minor": 4
}
